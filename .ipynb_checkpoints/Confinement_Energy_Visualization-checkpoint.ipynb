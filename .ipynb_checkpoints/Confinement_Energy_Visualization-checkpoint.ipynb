{
 "cells": [
  {
   "cell_type": "code",
   "execution_count": 13,
   "id": "0b2b1311-8bb2-477c-bc70-d51d8e445448",
   "metadata": {},
   "outputs": [],
   "source": [
    "import numpy as np"
   ]
  },
  {
   "cell_type": "code",
   "execution_count": 15,
   "id": "1eba9f06-6188-44ae-bf66-b71991860daf",
   "metadata": {},
   "outputs": [],
   "source": [
    "pi=np.pi"
   ]
  },
  {
   "cell_type": "code",
   "execution_count": 18,
   "id": "32b7a8ff-cc6c-464a-a25e-adfd83d76be6",
   "metadata": {},
   "outputs": [],
   "source": [
    "hBar=1.05e-34"
   ]
  },
  {
   "cell_type": "code",
   "execution_count": 49,
   "id": "f432c177-2957-45f9-bff7-e1aa72da93c3",
   "metadata": {},
   "outputs": [],
   "source": [
    "def myFunction(a):\n",
    "    # print(a)\n",
    "    n=1\n",
    "    m=9.109e-31\n",
    "    E=(((n**2)*(pi**2)*(hBar**2))/((np.sqrt(2))*(m)*np.sqrt(a**3)))*(6.24e18)\n",
    "    print(E)"
   ]
  },
  {
   "cell_type": "code",
   "execution_count": 50,
   "id": "907a7b9d-58cd-49f0-acc5-1255c26a4e7c",
   "metadata": {},
   "outputs": [
    {
     "name": "stdout",
     "output_type": "stream",
     "text": [
      "0.0005270808447451491\n"
     ]
    }
   ],
   "source": [
    "myFunction(0.0000000001)"
   ]
  },
  {
   "cell_type": "code",
   "execution_count": null,
   "id": "cc29a9cc-c787-4d6c-843c-fe6c68321c2f",
   "metadata": {},
   "outputs": [],
   "source": []
  }
 ],
 "metadata": {
  "kernelspec": {
   "display_name": "Python 3 (ipykernel)",
   "language": "python",
   "name": "python3"
  },
  "language_info": {
   "codemirror_mode": {
    "name": "ipython",
    "version": 3
   },
   "file_extension": ".py",
   "mimetype": "text/x-python",
   "name": "python",
   "nbconvert_exporter": "python",
   "pygments_lexer": "ipython3",
   "version": "3.11.4"
  }
 },
 "nbformat": 4,
 "nbformat_minor": 5
}
